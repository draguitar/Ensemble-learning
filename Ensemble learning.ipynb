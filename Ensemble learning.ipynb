{
  "nbformat": 4,
  "nbformat_minor": 0,
  "metadata": {
    "colab": {
      "name": "AdaBoost",
      "provenance": [],
      "collapsed_sections": []
    },
    "kernelspec": {
      "name": "python3",
      "display_name": "Python 3"
    }
  },
  "cells": [
    {
      "cell_type": "code",
      "metadata": {
        "id": "Fl5HpIVa_Z8K",
        "colab_type": "code",
        "colab": {}
      },
      "source": [
        "# -*- coding: utf-8 -*-\n",
        "\"\"\"\n",
        "Created on Wed Feb  5 09:09:03 2020\n",
        "\n",
        "@author: C09700\n",
        "\"\"\"\n",
        "#%%\n",
        "import numpy as np\n",
        "import pandas as pd\n",
        "from sklearn import ensemble, preprocessing, metrics\n",
        "from sklearn.model_selection import train_test_split"
      ],
      "execution_count": 0,
      "outputs": []
    },
    {
      "cell_type": "code",
      "metadata": {
        "id": "L65stbSRBDu_",
        "colab_type": "code",
        "colab": {}
      },
      "source": [
        "# 載入資料\n",
        "url = \".//data//Titanic.csv\"\n",
        "titanic_train = pd.read_csv(url)"
      ],
      "execution_count": 0,
      "outputs": []
    },
    {
      "cell_type": "markdown",
      "metadata": {
        "id": "4fEj53DODY2H",
        "colab_type": "text"
      },
      "source": [
        "## Preprocessing"
      ]
    },
    {
      "cell_type": "code",
      "metadata": {
        "id": "HBie-njW-3Hi",
        "colab_type": "code",
        "colab": {}
      },
      "source": [
        "# 填補遺漏值\n",
        "age_median = np.nanmedian(titanic_train[\"Age\"])\n",
        "\n",
        "#np.where(condition, x, y)\n",
        "#滿足條件(condition)，輸出x，不滿足輸出y。\n",
        "\n",
        "new_Age = np.where(titanic_train[\"Age\"].isnull(), age_median, titanic_train[\"Age\"])\n",
        "titanic_train[\"Age\"] = new_Age\n",
        "\n",
        "# 創造 dummy variables\n",
        "label_encoder = preprocessing.LabelEncoder()\n",
        "encoded_Sex = label_encoder.fit_transform(titanic_train[\"Sex\"])\n",
        "\n",
        "# 建立訓練與測試資料\n",
        "# 轉置資料transpose\n",
        "titanic_X = pd.DataFrame([\n",
        "    titanic_train[\"Pclass\"],\n",
        "    encoded_Sex,\n",
        "    titanic_train[\"Age\"]\n",
        "    ]).T\n",
        "\n",
        "titanic_y = titanic_train[\"Survived\"]\n",
        "train_X, test_X, train_y, test_y = train_test_split(titanic_X, titanic_y, test_size = 0.3)\n",
        "\n"
      ],
      "execution_count": 0,
      "outputs": []
    },
    {
      "cell_type": "markdown",
      "metadata": {
        "id": "c78kEnulDpzs",
        "colab_type": "text"
      },
      "source": [
        "## Bagging"
      ]
    },
    {
      "cell_type": "code",
      "metadata": {
        "id": "ziGWh5HSDkEA",
        "colab_type": "code",
        "colab": {
          "base_uri": "https://localhost:8080/",
          "height": 34
        },
        "outputId": "4705c6c9-1e85-4d07-9592-8b1db25c5365"
      },
      "source": [
        "bag = ensemble.BaggingClassifier(n_estimators = 100)\n",
        "bag_fit = bag.fit(train_X, train_y)\n",
        "\n",
        "# 預測\n",
        "test_y_predicted = bag.predict(test_X)\n",
        "\n",
        "accuracy = metrics.accuracy_score(test_y, test_y_predicted)\n",
        "print(accuracy)\n"
      ],
      "execution_count": 4,
      "outputs": [
        {
          "output_type": "stream",
          "text": [
            "0.7761194029850746\n"
          ],
          "name": "stdout"
        }
      ]
    },
    {
      "cell_type": "markdown",
      "metadata": {
        "id": "tXyiA5_RDw7O",
        "colab_type": "text"
      },
      "source": [
        "## AdaBoost"
      ]
    },
    {
      "cell_type": "code",
      "metadata": {
        "id": "LvVonCDKDyx9",
        "colab_type": "code",
        "colab": {
          "base_uri": "https://localhost:8080/",
          "height": 34
        },
        "outputId": "afb64578-64e3-483e-86e9-065fbf21056d"
      },
      "source": [
        "boost = ensemble.AdaBoostClassifier(n_estimators = 100)\n",
        "boost_fit = boost.fit(train_X, train_y)\n",
        "\n",
        "# 預測\n",
        "test_y_predicted = boost.predict(test_X)\n",
        "\n",
        "# 績效\n",
        "accuracy = metrics.accuracy_score(test_y, test_y_predicted)\n",
        "print(accuracy)"
      ],
      "execution_count": 5,
      "outputs": [
        {
          "output_type": "stream",
          "text": [
            "0.7873134328358209\n"
          ],
          "name": "stdout"
        }
      ]
    }
  ]
}